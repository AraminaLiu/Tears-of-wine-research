{
 "cells": [
  {
   "cell_type": "code",
   "execution_count": 24,
   "metadata": {},
   "outputs": [],
   "source": [
    "from math import pi as PI\n",
    "from math import exp as exp\n",
    "import numpy as np\n",
    "import matplotlib.pyplot as plt\n",
    "import matplotlib.cm as cm\n",
    "\n",
    "def convection_diffusion(NT, NX, TMAX, XMAX):\n",
    "   \n",
    "   #Returns the velocity field and distance for 1D non-linear convection-diffusion\n",
    "   \n",
    "   # Increments\n",
    "    DT = TMAX/(NT-1)\n",
    "    DX = XMAX/(NX-1)\n",
    "\n",
    "   # Initialise data structures\n",
    "    eta = np.zeros((NX,NT))\n",
    "    x = np.zeros(NX)\n",
    "    t = np.zeros(NT)\n",
    "    ipos = np.zeros(NX,dtype = int)\n",
    "    ineg = np.zeros(NX,dtype = int)\n",
    "\n",
    "   # Periodic boundary conditions\n",
    "    for i in range(0,NX):\n",
    "        x[i] = i*DX\n",
    "        ipos[i] = int(i)+1\n",
    "        ineg[i] = int(i)-1\n",
    "\n",
    "    ipos[NX-1] = 0\n",
    "    ineg[0] = NX-1\n",
    "\n",
    "   # Initial conditions\n",
    "    for i in range(0,NX):\n",
    "        eta[i,0] = 1\n",
    "\n",
    "   # Numerical solution\n",
    "    for n in range(0,NT-1):\n",
    "        for i in range(0,NX):\n",
    "            eta[i,n+1] = (eta[i,n]-2/3*DT*(eta[i,n])**3 / (1-(x[i]*eta[i,n])**2) - 2*x[i]*DT*(eta[i,n])**2*(eta[i,n] - eta[ineg[i],n])/(1-(x[i]*eta[i,n])**2)/DX)\n",
    "\n",
    "    return eta, x\n"
   ]
  },
  {
   "cell_type": "code",
   "execution_count": 25,
   "metadata": {},
   "outputs": [],
   "source": [
    "eta,x = convection_diffusion(100, 100, 10.0, 0.3)"
   ]
  },
  {
   "cell_type": "code",
   "execution_count": 5,
   "metadata": {},
   "outputs": [],
   "source": [
    "def analytical_solution(NT, NX, TMAX, XMAX, NU):\n",
    "   \n",
    "   #Returns the velocity field and distance for the analytical solution\n",
    "   \n",
    "\n",
    "   # Increments\n",
    "    DT = TMAX/(NT-1)\n",
    "    DX = XMAX/(NX-1)\n",
    "\n",
    "   # Initialise data structures\n",
    "    u_analytical = np.zeros((NX,NT))\n",
    "    x = np.zeros(NX)\n",
    "    t = np.zeros(NT)\n",
    "\n",
    "   # Distance\n",
    "    for i in range(0,NX):\n",
    "        x[i] = i*DX\n",
    "\n",
    "   # Analytical Solution\n",
    "    for n in range(0,NT):\n",
    "        t = n*DT\n",
    "        \n",
    "        for i in range(0,NX):\n",
    "            phi = exp( -(x[i]-4*t)**2/(4*NU*(t+1)) ) + exp( -(x[i]-4*t-2*PI)**2/(4*NU*(t+1)) )\n",
    "            dphi = ( -0.5*(x[i]-4*t)/(NU*(t+1))*exp( -(x[i]-4*t)**2/(4*NU*(t+1)) )\n",
    "               -0.5*(x[i]-4*t-2*PI)/(NU*(t+1))*exp( -(x[i]-4*t-2*PI)**2/(4*NU*(t+1)) ) )\n",
    "            u_analytical[i,n] = -2*NU*(dphi/phi) + 4\n",
    "            \n",
    "    return u_analytical, x\n",
    "\n"
   ]
  },
  {
   "cell_type": "code",
   "execution_count": 6,
   "metadata": {},
   "outputs": [],
   "source": [
    "def convection_diffusion(NT, NX, TMAX, XMAX, NU):\n",
    "   \n",
    "   #Returns the velocity field and distance for 1D non-linear convection-diffusion\n",
    "   \n",
    "   # Increments\n",
    "    DT = TMAX/(NT-1)\n",
    "    DX = XMAX/(NX-1)\n",
    "\n",
    "   # Initialise data structures\n",
    "    u = np.zeros((NX,NT))\n",
    "    u_analytical = np.zeros((NX,NT))\n",
    "    x = np.zeros(NX)\n",
    "    t = np.zeros(NT)\n",
    "    ipos = np.zeros(NX,dtype = int)\n",
    "    ineg = np.zeros(NX,dtype = int)\n",
    "\n",
    "   # Periodic boundary conditions\n",
    "    for i in range(0,NX):\n",
    "        x[i] = i*DX\n",
    "        ipos[i] = int(i)+1\n",
    "        ineg[i] = int(i)-1\n",
    "\n",
    "    ipos[NX-1] = 0\n",
    "    ineg[0] = NX-1\n",
    "\n",
    "   # Initial conditions\n",
    "    for i in range(0,NX):\n",
    "        phi = exp( -(x[i]**2)/(4*NU) ) + exp( -(x[i]-2*PI)**2 / (4*NU) )\n",
    "        dphi = -(0.5*x[i]/NU)*exp( -(x[i]**2) / (4*NU) ) - (0.5*(x[i]-2*PI) / NU )*exp(-(x[i]-2*PI)**2 / (4*NU) )\n",
    "        u[i,0] = -2*NU*(dphi/phi) + 4\n",
    "\n",
    "   # Numerical solution\n",
    "    for n in range(0,NT-1):\n",
    "        for i in range(0,NX):\n",
    "            u[i,n+1] = (u[i,n]-u[i,n]*(DT/DX)*(u[i,n]-u[ineg[i],n])+NU*(DT/DX**2)*(u[ipos[i],n]-2*u[i,n]+u[ineg[i],n]))\n",
    "\n",
    "    return u, x\n"
   ]
  },
  {
   "cell_type": "code",
   "execution_count": 30,
   "metadata": {},
   "outputs": [],
   "source": [
    "def plot_diffusion(u,x,NT,TITLE):\n",
    "   \n",
    "   #Plots the 1D velocity field\n",
    "    plt.figure()\n",
    "    ax=plt.subplot(111)\n",
    "    colour=iter(cm.rainbow(np.linspace(0,20,NT)))\n",
    "    for n in range(0,NT,0.1):\n",
    "        c=next(colour)\n",
    "        ax.plot(x,u[:,n],'-', label='i='+str(n)+' numerical')\n",
    "        #ax.plot(x,u_analytical[:,n],linestyle='-',c=c,label='i='+str(n)+' analytical')\n",
    "    box=ax.get_position()\n",
    "    ax.set_position([box.x0, box.y0, box.width*0.7,box.height])\n",
    "    ax.legend( bbox_to_anchor=(1.02,1), loc=2)\n",
    "    plt.xlabel('x (radians)')\n",
    "    plt.ylabel('u (m/s)')\n",
    "    plt.ylim([0,8.0])\n",
    "    plt.xlim([0,2.0*PI])\n",
    "    plt.title(TITLE)\n",
    "    plt.show()"
   ]
  },
  {
   "cell_type": "code",
   "execution_count": 31,
   "metadata": {},
   "outputs": [
    {
     "ename": "TypeError",
     "evalue": "range() integer step argument expected, got float.",
     "output_type": "error",
     "traceback": [
      "\u001b[1;31m---------------------------------------------------------------------------\u001b[0m",
      "\u001b[1;31mTypeError\u001b[0m                                 Traceback (most recent call last)",
      "\u001b[1;32m<ipython-input-31-989623b94a1f>\u001b[0m in \u001b[0;36m<module>\u001b[1;34m()\u001b[0m\n\u001b[0;32m      1\u001b[0m \u001b[0mu\u001b[0m\u001b[1;33m,\u001b[0m\u001b[0mx\u001b[0m \u001b[1;33m=\u001b[0m \u001b[0mconvection_diffusion\u001b[0m\u001b[1;33m(\u001b[0m\u001b[1;36m50\u001b[0m\u001b[1;33m,\u001b[0m \u001b[1;36m50\u001b[0m\u001b[1;33m,\u001b[0m \u001b[1;36m10\u001b[0m\u001b[1;33m,\u001b[0m \u001b[1;36m0.3\u001b[0m\u001b[1;33m)\u001b[0m\u001b[1;33m\u001b[0m\u001b[0m\n\u001b[0;32m      2\u001b[0m \u001b[1;31m#u_analytical,x = analytical_solution(151, 151, 0.5, 2.0*PI, 0.1)\u001b[0m\u001b[1;33m\u001b[0m\u001b[1;33m\u001b[0m\u001b[0m\n\u001b[1;32m----> 3\u001b[1;33m \u001b[0mplot_diffusion\u001b[0m\u001b[1;33m(\u001b[0m\u001b[0mu\u001b[0m\u001b[1;33m,\u001b[0m\u001b[0mx\u001b[0m\u001b[1;33m,\u001b[0m\u001b[1;36m151\u001b[0m\u001b[1;33m,\u001b[0m\u001b[1;34m'Figure 1: nu=0.1, nt=151, nx=151, tmax=0.5s'\u001b[0m\u001b[1;33m)\u001b[0m\u001b[1;33m\u001b[0m\u001b[0m\n\u001b[0m\u001b[0;32m      4\u001b[0m \u001b[1;33m\u001b[0m\u001b[0m\n\u001b[0;32m      5\u001b[0m \u001b[1;31m#u,x = convection_diffusion(151, 151, 0.5, 2.0*PI, 0.01)\u001b[0m\u001b[1;33m\u001b[0m\u001b[1;33m\u001b[0m\u001b[0m\n",
      "\u001b[1;32m<ipython-input-30-966771c4591f>\u001b[0m in \u001b[0;36mplot_diffusion\u001b[1;34m(u, x, NT, TITLE)\u001b[0m\n\u001b[0;32m      5\u001b[0m     \u001b[0max\u001b[0m\u001b[1;33m=\u001b[0m\u001b[0mplt\u001b[0m\u001b[1;33m.\u001b[0m\u001b[0msubplot\u001b[0m\u001b[1;33m(\u001b[0m\u001b[1;36m111\u001b[0m\u001b[1;33m)\u001b[0m\u001b[1;33m\u001b[0m\u001b[0m\n\u001b[0;32m      6\u001b[0m     \u001b[0mcolour\u001b[0m\u001b[1;33m=\u001b[0m\u001b[0miter\u001b[0m\u001b[1;33m(\u001b[0m\u001b[0mcm\u001b[0m\u001b[1;33m.\u001b[0m\u001b[0mrainbow\u001b[0m\u001b[1;33m(\u001b[0m\u001b[0mnp\u001b[0m\u001b[1;33m.\u001b[0m\u001b[0mlinspace\u001b[0m\u001b[1;33m(\u001b[0m\u001b[1;36m0\u001b[0m\u001b[1;33m,\u001b[0m\u001b[1;36m20\u001b[0m\u001b[1;33m,\u001b[0m\u001b[0mNT\u001b[0m\u001b[1;33m)\u001b[0m\u001b[1;33m)\u001b[0m\u001b[1;33m)\u001b[0m\u001b[1;33m\u001b[0m\u001b[0m\n\u001b[1;32m----> 7\u001b[1;33m     \u001b[1;32mfor\u001b[0m \u001b[0mn\u001b[0m \u001b[1;32min\u001b[0m \u001b[0mrange\u001b[0m\u001b[1;33m(\u001b[0m\u001b[1;36m0\u001b[0m\u001b[1;33m,\u001b[0m\u001b[0mNT\u001b[0m\u001b[1;33m,\u001b[0m\u001b[1;36m0.1\u001b[0m\u001b[1;33m)\u001b[0m\u001b[1;33m:\u001b[0m\u001b[1;33m\u001b[0m\u001b[0m\n\u001b[0m\u001b[0;32m      8\u001b[0m         \u001b[0mc\u001b[0m\u001b[1;33m=\u001b[0m\u001b[0mnext\u001b[0m\u001b[1;33m(\u001b[0m\u001b[0mcolour\u001b[0m\u001b[1;33m)\u001b[0m\u001b[1;33m\u001b[0m\u001b[0m\n\u001b[0;32m      9\u001b[0m         \u001b[0max\u001b[0m\u001b[1;33m.\u001b[0m\u001b[0mplot\u001b[0m\u001b[1;33m(\u001b[0m\u001b[0mx\u001b[0m\u001b[1;33m,\u001b[0m\u001b[0mu\u001b[0m\u001b[1;33m[\u001b[0m\u001b[1;33m:\u001b[0m\u001b[1;33m,\u001b[0m\u001b[0mn\u001b[0m\u001b[1;33m]\u001b[0m\u001b[1;33m,\u001b[0m\u001b[1;34m'-'\u001b[0m\u001b[1;33m,\u001b[0m \u001b[0mlabel\u001b[0m\u001b[1;33m=\u001b[0m\u001b[1;34m'i='\u001b[0m\u001b[1;33m+\u001b[0m\u001b[0mstr\u001b[0m\u001b[1;33m(\u001b[0m\u001b[0mn\u001b[0m\u001b[1;33m)\u001b[0m\u001b[1;33m+\u001b[0m\u001b[1;34m' numerical'\u001b[0m\u001b[1;33m)\u001b[0m\u001b[1;33m\u001b[0m\u001b[0m\n",
      "\u001b[1;31mTypeError\u001b[0m: range() integer step argument expected, got float."
     ]
    },
    {
     "data": {
      "image/png": "[encoded data removed]",
      "text/plain": [
       "<Figure size 432x288 with 1 Axes>"
      ]
     },
     "metadata": {
      "needs_background": "light"
     },
     "output_type": "display_data"
    }
   ],
   "source": [
    "u,x = convection_diffusion(50, 50, 10, 0.3)\n",
    "#u_analytical,x = analytical_solution(151, 151, 0.5, 2.0*PI, 0.1)\n",
    "plot_diffusion(u,x,151,'Figure 1: nu=0.1, nt=151, nx=151, tmax=0.5s')\n",
    "\n",
    "#u,x = convection_diffusion(151, 151, 0.5, 2.0*PI, 0.01)\n",
    "#u_analytical,x = analytical_solution(151, 151, 0.5, 2.0*PI, 0.01)\n",
    "#plot_diffusion(u,x,151,'Figure 2: nu=0.01, nt=151, nx=151, tmax=0.5s')"
   ]
  },
  {
   "cell_type": "code",
   "execution_count": null,
   "metadata": {},
   "outputs": [],
   "source": []
  }
 ],
 "metadata": {
  "kernelspec": {
   "display_name": "Python 2",
   "language": "python",
   "name": "python2"
  },
  "language_info": {
   "codemirror_mode": {
    "name": "ipython",
    "version": 2
   },
   "file_extension": ".py",
   "mimetype": "text/x-python",
   "name": "python",
   "nbconvert_exporter": "python",
   "pygments_lexer": "ipython2",
   "version": "2.7.16"
  }
 },
 "nbformat": 4,
 "nbformat_minor": 2
}
